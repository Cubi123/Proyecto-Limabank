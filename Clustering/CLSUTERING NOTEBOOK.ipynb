{
  "cells": [
    {
      "cell_type": "markdown",
      "source": [
        "# Clustering\n",
        "En primer lugar, se cargan los datos provenientes de la limpieza de vacíos y el encoding de variables cardinales. Estos datos aún tienen diferente escala, lo cual es un problema para los modelos de clustering basados en distancia euclidiana.\n"
      ],
      "metadata": {
        "nteract": {
          "transient": {
            "deleting": false
          }
        }
      }
    },
    {
      "cell_type": "code",
      "source": [
        "import pandas as pd\n",
        "import numpy as np\n",
        "from sklearn.cluster import KMeans\n",
        "from sklearn.metrics import silhouette_samples, silhouette_score\n",
        "import matplotlib.pyplot as plt\n",
        "import seaborn as sns\n",
        "from sklearn.preprocessing import MinMaxScaler\n",
        "from  Clustering.setup import *\n",
        "\n",
        "data = pd.read_csv(\"Data/data_clean.csv\")\n"
      ],
      "outputs": [],
      "execution_count": null,
      "metadata": {
        "collapsed": true,
        "jupyter": {
          "source_hidden": false,
          "outputs_hidden": false
        },
        "nteract": {
          "transient": {
            "deleting": false
          }
        }
      }
    },
    {
      "cell_type": "markdown",
      "source": [
        "Para solucionar los problemas mencionados, en primer lugar, truncaremos las variables de ingreso y Deudas reemplazando sus fuertes colas a la derecha con el valor en el cuantil 95. Luego, escalaremos con MinMaxScaler.\n"
      ],
      "metadata": {
        "nteract": {
          "transient": {
            "deleting": false
          }
        }
      }
    },
    {
      "cell_type": "code",
      "source": [
        "to_truncate = [\"INGRESO\",\"SBS_DEUTOTAL\",\"Banco1_DEUTOTAL\",\n",
        "               \"Banco2_DEUTOTAL\",\"Banco3_DEUTOTAL\",\n",
        "               \"Banco4_DEUTOTAL\", \"OTROS_DEUTOTAL\"]\n",
        "\n",
        "for col in to_truncate:\n",
        "    limit = np.percentile(data[col],95)\n",
        "    mask = data[col]>limit\n",
        "    data.loc[mask,col] = limit\n",
        "\n",
        "for col in data.columns:\n",
        "    sca = MinMaxScaler()\n",
        "    data[col] = sca.fit_transform(data[[col]])\n",
        "\n",
        "data.describe().T"
      ],
      "outputs": [],
      "execution_count": null,
      "metadata": {
        "collapsed": true,
        "jupyter": {
          "source_hidden": false,
          "outputs_hidden": false
        },
        "nteract": {
          "transient": {
            "deleting": false
          }
        }
      }
    },
    {
      "cell_type": "markdown",
      "source": [
        "# Clustering por K-Means\n",
        "En este punto realizaremos el clustering por el algoritmo de k-means. Se usará el método del codo para determinar el número de clusters k óptimo\n"
      ],
      "metadata": {
        "nteract": {
          "transient": {
            "deleting": false
          }
        }
      }
    },
    {
      "cell_type": "code",
      "source": [
        "df1 = data.copy(deep=True)\n",
        "df1 = df1.sample(n=10000)\n",
        "range_n_clusters = [i for i in range(2,10)]\n",
        "silhouette_list=[]\n",
        "\n",
        "for n_clusters in range_n_clusters:\n",
        "\n",
        "    clusterer = KMeans(n_clusters=n_clusters, random_state=42)\n",
        "    cluster_labels = clusterer.fit_predict(df1)\n",
        "\n",
        "    # The silhouette_score gives the average value for all the samples.\n",
        "    # This gives a perspective into the density and separation of the formed\n",
        "    # clusters\n",
        "    silhouette_avg = silhouette_score(df1, cluster_labels)\n",
        "    print(\"For n_clusters =\", n_clusters,\n",
        "          \"The average silhouette_score is :\", silhouette_avg)\n",
        "\n",
        "    # Compute the silhouette scores for each sample\n",
        "    sample_silhouette_values = silhouette_samples(df1, cluster_labels)\n",
        "    silhouette_list.append(silhouette_avg)\n",
        "\n",
        "plt.title(\"Diagrama del codo\")\n",
        "plt.plot(range_n_clusters,silhouette_list)\n"
      ],
      "outputs": [],
      "execution_count": null,
      "metadata": {
        "collapsed": true,
        "jupyter": {
          "source_hidden": false,
          "outputs_hidden": false
        },
        "nteract": {
          "transient": {
            "deleting": false
          }
        }
      }
    },
    {
      "cell_type": "markdown",
      "source": [
        "Se observa que el número óptimo de clusters es 6. Entonces aplicaremos Kmeans con k=6. y describiremos a cada grupo encontrado.\n"
      ],
      "metadata": {
        "nteract": {
          "transient": {
            "deleting": false
          }
        }
      }
    },
    {
      "cell_type": "code",
      "source": [
        "kmeans = KMeans(n_clusters=6, random_state=42).fit(data)\n",
        "len(kmeans.labels_)\n",
        "\n",
        "data_to_interpret = pd.read_csv(\"Data/data_clean_noimput.csv\")\n",
        "data_to_interpret.shape\n",
        "data_to_interpret[\"cluster\"] = kmeans.labels_\n",
        "pd.Series(kmeans.labels_).value_counts()\n",
        "plt.hist(kmeans.labels_)\n"
      ],
      "outputs": [],
      "execution_count": null,
      "metadata": {
        "collapsed": true,
        "jupyter": {
          "source_hidden": false,
          "outputs_hidden": false
        },
        "nteract": {
          "transient": {
            "deleting": false
          }
        }
      }
    },
    {
      "cell_type": "markdown",
      "source": [
        "# Interpretación de clusters\n"
      ],
      "metadata": {
        "nteract": {
          "transient": {
            "deleting": false
          }
        }
      }
    },
    {
      "cell_type": "code",
      "source": [
        "from sklearn.tree import DecisionTreeRegressor\n",
        "from sklearn.metrics import mean_squared_error\n",
        "from sklearn.model_selection import train_test_split\n",
        "\n",
        "X_train, X_test, y_train, y_test = train_test_split(data,\n",
        "                                                    kmeans.labels_,\n",
        "                                                    test_size = 0.3)\n",
        "modelo = DecisionTreeRegressor(criterion=\"mse\",\n",
        "                               max_depth=None,      # máxima profundidad del arbol\n",
        "                               )\n",
        "modelo.fit(X_train, y_train)  # ajusto los datos de entrenamiento\n",
        "\n",
        "y_pred = modelo.predict(X_test)\n",
        "\n",
        "rmse_test = np.sqrt(mean_squared_error(y_test, y_pred))\n",
        "print(\"Root Mean Squared Error: {}\".format(rmse_test))\n",
        "\n",
        "from sklearn.tree import plot_tree\n",
        "plt.figure(figsize=(10,5))\n",
        "sns.set_context(\"talk\")\n",
        "plot_tree(modelo,\n",
        "          max_depth=2,\n",
        "          feature_names= data.columns,\n",
        "          class_names=None,\n",
        "          label=\"all\",\n",
        "          )\n",
        "plt.show()\n",
        "plt.close()\n",
        "\n",
        "\n",
        "data_to_interpret = pd.read_csv(\"Data/data_clean_noimput.csv\")\n",
        "data_to_interpret[\"cluster\"] = kmeans.labels_\n",
        "data_to_interpret.shape\n",
        "\n",
        "variables_continuas=['INGRESO',\n",
        "                     'EDAD',\n",
        "                     'SBS_DEUTOTAL',\n",
        "                     'Banco1_DEUTOTAL',\n",
        "                     'Banco2_DEUTOTAL',\n",
        "                     'Banco3_DEUTOTAL',\n",
        "                     'Banco4_DEUTOTAL',\n",
        "                     'OTROS_DEUTOTAL',]\n",
        "\n",
        "variables_discretas=['FORMAL',\n",
        "                     'DIGITAL',\n",
        "                     'FLG_SBS_201909',\n",
        "                     'FLG_MD_NEGATIVO',\n",
        "                     'FLG_DEUDASBS',\n",
        "                     'CANTIDAD_PRODUCTOS',\n",
        "                     'FLG_SEGUROS',\n",
        "                     'FLG_ACTIVOS',\n",
        "                     'FLG_PASIVOS',\n",
        "                     'FLG_INVERSION',\n",
        "                     'FLG_PASIV_INV',]\n",
        "\n",
        "variables_ordinales=['EDU',\n",
        "                     'TIPNIVELEDUCACIONAL',\n",
        "                     'PERFIL_VINCULACION',\n",
        "                     'SEMENTO_RIESGO',\n",
        "                     ]\n",
        "\n",
        "variables_nominales=['TIPESTCIVIL',\n",
        "                     'CODPAISNACIONALIDAD',\n",
        "                     'DESTIPPROVINCIA',\n",
        "                     'DIGITALIDAD',]\n",
        "\n",
        "\n",
        "with sns.axes_style(\"darkgrid\"), sns.plotting_context(\"talk\"):\n",
        "    continous_interpret(data_to_interpret, variables_continuas, \"cluster\",3,6,25, 30, 0.5,0.3,)\n",
        "    plt.show()\n",
        "    plt.close()\n"
      ],
      "outputs": [],
      "execution_count": null,
      "metadata": {
        "collapsed": true,
        "jupyter": {
          "source_hidden": false,
          "outputs_hidden": false
        },
        "nteract": {
          "transient": {
            "deleting": false
          }
        }
      }
    }
  ],
  "metadata": {
    "kernelspec": {
      "argv": [
        "D:\\venvs\\TemasIOP\\Scripts\\python.exe",
        "-m",
        "ipykernel_launcher",
        "-f",
        "{connection_file}"
      ],
      "display_name": "Python 3",
      "language": "python",
      "name": "python3"
    }
  },
  "nbformat": 4,
  "nbformat_minor": 0
}